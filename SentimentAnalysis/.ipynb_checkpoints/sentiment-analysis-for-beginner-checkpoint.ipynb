{
 "cells": [
  {
   "cell_type": "code",
   "execution_count": null,
   "metadata": {
    "_cell_guid": "b1076dfc-b9ad-4769-8c92-a6c4dae69d19",
    "_uuid": "8f2839f25d086af736a60e9eeb907d3b93b6e0e5",
    "collapsed": true
   },
   "outputs": [],
   "source": [
    "# This Python 3 environment comes with many helpful analytics libraries installed\n",
    "# It is defined by the kaggle/python docker image: https://github.com/kaggle/docker-python\n",
    "# For example, here's several helpful packages to load in \n",
    "\n",
    "import numpy as np # linear algebra\n",
    "import pandas as pd # data processing, CSV file I/O (e.g. pd.read_csv)\n",
    "\n",
    "# Input data files are available in the \"../input/\" directory.\n",
    "# For example, running this (by clicking run or pressing Shift+Enter) will list the files in the input directory\n",
    "\n",
    "import os\n",
    "print(os.listdir(\"../input\"))\n",
    "import gc\n",
    "#pd.options.display.max_colwidth=100\n",
    "pd.set_option('display.max_colwidth',100)\n",
    "# Any results you write to the current directory are saved as output."
   ]
  },
  {
   "cell_type": "code",
   "execution_count": null,
   "metadata": {
    "_uuid": "376108f6e1a22afeba8739d2e12d0aa51fde8dea",
    "collapsed": true
   },
   "outputs": [],
   "source": [
    "gc.collect()"
   ]
  },
  {
   "cell_type": "markdown",
   "metadata": {
    "_cell_guid": "79c7e3d0-c299-4dcb-8224-4455121ee9b0",
    "_uuid": "d629ff2d2480ee46fbb7e2d37f6b5fab8052498a",
    "collapsed": true
   },
   "source": [
    "### Loading dataset and basic visualization"
   ]
  },
  {
   "cell_type": "code",
   "execution_count": null,
   "metadata": {
    "_uuid": "cfd09ccff2dbc595ead54e3fd638cfdc3f3089e5",
    "collapsed": true
   },
   "outputs": [],
   "source": [
    "train=pd.read_csv('../input/train.tsv',sep='\\t')\n",
    "print(train.shape)\n",
    "train.head()"
   ]
  },
  {
   "cell_type": "code",
   "execution_count": null,
   "metadata": {
    "_uuid": "1b7f2e540ea49f1d94ec124b818f2a63c3c66a96",
    "collapsed": true
   },
   "outputs": [],
   "source": [
    "test=pd.read_csv('../input/test.tsv',sep='\\t')\n",
    "print(test.shape)\n",
    "test.head()"
   ]
  },
  {
   "cell_type": "code",
   "execution_count": null,
   "metadata": {
    "_uuid": "f4509ef7a7adcc7942a6f1acff34c54ce3802d5d",
    "collapsed": true
   },
   "outputs": [],
   "source": [
    "sub=pd.read_csv('../input/sampleSubmission.csv')\n",
    "sub.head()"
   ]
  },
  {
   "cell_type": "markdown",
   "metadata": {
    "_uuid": "bbe766f446d3bb593acbdf5ef976097c929c7901"
   },
   "source": [
    "**Adding Sentiment column to test datset and joing train and test for preprocessing**"
   ]
  },
  {
   "cell_type": "code",
   "execution_count": null,
   "metadata": {
    "_uuid": "293f41b034b63f6526f22fd616877220e19af8e7",
    "collapsed": true
   },
   "outputs": [],
   "source": [
    "test['Sentiment']=-999\n",
    "test.head()"
   ]
  },
  {
   "cell_type": "code",
   "execution_count": null,
   "metadata": {
    "_uuid": "277931f786264b67041d060cdf5aec9ace10fd5d",
    "collapsed": true
   },
   "outputs": [],
   "source": [
    "df=pd.concat([train,test],ignore_index=True)\n",
    "print(df.shape)\n",
    "df.tail()"
   ]
  },
  {
   "cell_type": "code",
   "execution_count": null,
   "metadata": {
    "_uuid": "5c6e9d3571d89ffeba4bbf3a09a027b542499063",
    "collapsed": true
   },
   "outputs": [],
   "source": [
    "del train,test\n",
    "gc.collect()"
   ]
  },
  {
   "cell_type": "markdown",
   "metadata": {
    "_uuid": "7ba69becca5dac25b40fc9c1a421b3d2b93ef7c5"
   },
   "source": [
    "** cleaning review**"
   ]
  },
  {
   "cell_type": "code",
   "execution_count": null,
   "metadata": {
    "_uuid": "44022cdd2e622139943b9e65350dcb89d4d6653e",
    "collapsed": true
   },
   "outputs": [],
   "source": [
    "from nltk.tokenize import word_tokenize\n",
    "from nltk.stem import SnowballStemmer,WordNetLemmatizer\n",
    "stemmer=SnowballStemmer('english')\n",
    "lemma=WordNetLemmatizer()\n",
    "from string import punctuation\n",
    "import re\n",
    "from bs4 import BeautifulSoup"
   ]
  },
  {
   "cell_type": "code",
   "execution_count": null,
   "metadata": {
    "_uuid": "4644cb4452dca89c9870447a9ad828a9fa05098d",
    "collapsed": true
   },
   "outputs": [],
   "source": [
    "def clean_review(review_col):\n",
    "    review_corpus=[]\n",
    "    for i in range(0,len(review_col)):\n",
    "        review=str(review_col[i])\n",
    "        review=re.sub('[^a-zA-Z]',' ',review)\n",
    "        #review=[stemmer.stem(w) for w in word_tokenize(str(review).lower())]\n",
    "        review=[lemma.lemmatize(w) for w in word_tokenize(str(review).lower())]\n",
    "        review=' '.join(review)\n",
    "        review_corpus.append(review)\n",
    "    return review_corpus"
   ]
  },
  {
   "cell_type": "code",
   "execution_count": null,
   "metadata": {
    "_uuid": "f3aa6294835b8bbba8d324f59b253ab2ec85877a",
    "collapsed": true
   },
   "outputs": [],
   "source": [
    "df['clean_review']=clean_review(df.Phrase.values)\n",
    "df.head()"
   ]
  },
  {
   "cell_type": "markdown",
   "metadata": {
    "_uuid": "d4ee11295116391255ecb1ced3ca5054b46a6927"
   },
   "source": [
    "** seperating train and test dataset**"
   ]
  },
  {
   "cell_type": "code",
   "execution_count": null,
   "metadata": {
    "_uuid": "069c27892b11cc1d5a9ac030b67a995532746ea2",
    "collapsed": true
   },
   "outputs": [],
   "source": [
    "df_train=df[df.Sentiment!=-999]\n",
    "df_train.shape"
   ]
  },
  {
   "cell_type": "code",
   "execution_count": null,
   "metadata": {
    "_uuid": "3f616adc7d6e9a8a12610573762e5ded05fcf96e",
    "collapsed": true
   },
   "outputs": [],
   "source": [
    "df_test=df[df.Sentiment==-999]\n",
    "df_test.drop('Sentiment',axis=1,inplace=True)\n",
    "print(df_test.shape)\n",
    "df_test.head()"
   ]
  },
  {
   "cell_type": "code",
   "execution_count": null,
   "metadata": {
    "_uuid": "70afb2e0ee4c0a8eecb8722d4c27a1b8f70e7081",
    "collapsed": true
   },
   "outputs": [],
   "source": [
    "del df\n",
    "gc.collect()"
   ]
  },
  {
   "cell_type": "markdown",
   "metadata": {
    "_uuid": "296715fb92600d4e5cc2a02cfdf7640113ae6aa1"
   },
   "source": [
    "### Bag of Words model"
   ]
  },
  {
   "cell_type": "code",
   "execution_count": null,
   "metadata": {
    "_uuid": "4c4074649293908ebd00d637954b9d2c97e95f57",
    "collapsed": true
   },
   "outputs": [],
   "source": [
    "# from sklearn.feature_extraction.text import CountVectorizer\n",
    "# cv=CountVectorizer()"
   ]
  },
  {
   "cell_type": "code",
   "execution_count": null,
   "metadata": {
    "_uuid": "d8a6830802b28facc2d84c29da33374166f494ee",
    "collapsed": true
   },
   "outputs": [],
   "source": [
    "# c_train=cv.fit_transform(df_train.clean_review).toarray()\n",
    "# print(c_train.shape)\n",
    "# c_test=cv.transform(df_test.clean_review).toarray()\n",
    "# print(c_test.shape)"
   ]
  },
  {
   "cell_type": "code",
   "execution_count": null,
   "metadata": {
    "_uuid": "5ca6286cfd5859a3e0bbf65c3553aa54bf92c62b",
    "collapsed": true
   },
   "outputs": [],
   "source": [
    "# bow_df=pd.DataFrame(data=c_train,columns=cv.get_feature_names())\n",
    "# bow_df.head()"
   ]
  },
  {
   "cell_type": "markdown",
   "metadata": {
    "_uuid": "898283551d59982e83971493db37674606ccf31f"
   },
   "source": [
    "### Tfidf"
   ]
  },
  {
   "cell_type": "code",
   "execution_count": null,
   "metadata": {
    "_uuid": "c3ed87590ae9013adfd41df7e7539f7f54cf0bd2",
    "collapsed": true
   },
   "outputs": [],
   "source": [
    "from sklearn.feature_extraction.text import TfidfVectorizer\n",
    "tfidf=TfidfVectorizer(ngram_range=(1,2),max_df=0.95,min_df=10,sublinear_tf=True)"
   ]
  },
  {
   "cell_type": "code",
   "execution_count": null,
   "metadata": {
    "_uuid": "a5a7c2f4822171c1577e6a04c9c435087c6725eb",
    "collapsed": true
   },
   "outputs": [],
   "source": [
    "c2_train=tfidf.fit_transform(df_train.clean_review).toarray()\n",
    "print(c2_train.shape)\n",
    "c2_test=tfidf.transform(df_test.clean_review).toarray()\n",
    "print(c2_test.shape)"
   ]
  },
  {
   "cell_type": "markdown",
   "metadata": {
    "_uuid": "35aec7630cef85d40e960b3878a18b652862ea46",
    "collapsed": true
   },
   "source": [
    "### One hot encoding of target variable"
   ]
  },
  {
   "cell_type": "code",
   "execution_count": null,
   "metadata": {
    "_uuid": "455e7ebfdf68adbe15c3479d8ce47b9c8d1e2ae1",
    "collapsed": true
   },
   "outputs": [],
   "source": [
    "from sklearn.preprocessing import LabelEncoder,OneHotEncoder"
   ]
  },
  {
   "cell_type": "code",
   "execution_count": null,
   "metadata": {
    "_uuid": "61394f16b6c94cc011412cc2010c1a4176a2f4e9",
    "collapsed": true
   },
   "outputs": [],
   "source": [
    "le=LabelEncoder()\n",
    "y=le.fit_transform(df_train.Sentiment.values)\n",
    "#y=pd.get_dummies(y).values\n",
    "y.shape"
   ]
  },
  {
   "cell_type": "code",
   "execution_count": null,
   "metadata": {
    "_uuid": "c75f173a05b951239eb9a8986a8d943a8403d756",
    "collapsed": true
   },
   "outputs": [],
   "source": [
    "del df_train,df_test\n",
    "gc.collect()"
   ]
  },
  {
   "cell_type": "markdown",
   "metadata": {
    "_uuid": "830838ea1eb4dc97070793bdc690b76d6966b078"
   },
   "source": [
    "### splitting data into train and validation set"
   ]
  },
  {
   "cell_type": "code",
   "execution_count": null,
   "metadata": {
    "_uuid": "d43f9cbf89c2d523e7d6f36994981624ad4fd49a",
    "collapsed": true
   },
   "outputs": [],
   "source": [
    "# from sklearn.model_selection import train_test_split"
   ]
  },
  {
   "cell_type": "code",
   "execution_count": null,
   "metadata": {
    "_uuid": "16f31920eba1c86bbd2c6d143cbfa6094e09fe4a",
    "collapsed": true
   },
   "outputs": [],
   "source": [
    "# X_train,X_val,y_train,y_val=train_test_split(c2_train,y,test_size=0.2)\n",
    "# print(X_train.shape,y_train.shape)\n",
    "# print(X_val.shape,y_val.shape)"
   ]
  },
  {
   "cell_type": "markdown",
   "metadata": {
    "_uuid": "230127402dc1492b2c4e20b8b2e0b06e4fab87a1",
    "collapsed": true
   },
   "source": [
    "## 1. Logistic regression"
   ]
  },
  {
   "cell_type": "code",
   "execution_count": null,
   "metadata": {
    "_uuid": "eee2bef630ebb6ee8fbb1ca0abf6bc2c2b432c7f",
    "collapsed": true
   },
   "outputs": [],
   "source": [
    "from sklearn.linear_model import LogisticRegression\n",
    "lr=LogisticRegression()"
   ]
  },
  {
   "cell_type": "code",
   "execution_count": null,
   "metadata": {
    "_uuid": "dcdffa9dccd552699a2086a48354cba5e9d25b2c",
    "collapsed": true
   },
   "outputs": [],
   "source": [
    "lr.fit(c2_train,y)"
   ]
  },
  {
   "cell_type": "code",
   "execution_count": null,
   "metadata": {
    "_uuid": "bea08a20a9d5987f53e6d4c8186fcc9d9d3e3570",
    "collapsed": true
   },
   "outputs": [],
   "source": [
    "y_pred=lr.predict(c2_test)"
   ]
  },
  {
   "cell_type": "code",
   "execution_count": null,
   "metadata": {
    "_uuid": "5e33525c9ee559ebfb7fdd6d7678c38e975ebadc",
    "collapsed": true
   },
   "outputs": [],
   "source": [
    "sub.Sentiment=y_pred\n",
    "sub.head()"
   ]
  },
  {
   "cell_type": "code",
   "execution_count": null,
   "metadata": {
    "_uuid": "2ff68b5477ec350f8aa1b0c6632d9161f153057b",
    "collapsed": true
   },
   "outputs": [],
   "source": [
    "sub.to_csv('submission.csv',index=False)"
   ]
  }
 ],
 "metadata": {
  "kernelspec": {
   "display_name": "Python 3",
   "language": "python",
   "name": "python3"
  },
  "language_info": {
   "codemirror_mode": {
    "name": "ipython",
    "version": 3
   },
   "file_extension": ".py",
   "mimetype": "text/x-python",
   "name": "python",
   "nbconvert_exporter": "python",
   "pygments_lexer": "ipython3",
   "version": "3.5.4"
  }
 },
 "nbformat": 4,
 "nbformat_minor": 1
}
